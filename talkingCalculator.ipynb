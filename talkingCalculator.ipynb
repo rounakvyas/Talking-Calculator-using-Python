{
 "cells": [
  {
   "cell_type": "code",
   "execution_count": 1,
   "metadata": {},
   "outputs": [],
   "source": [
    "# Importing the necessary modules\n",
    "from tkinter import *\n",
    "import parser\n",
    "from math import factorial"
   ]
  },
  {
   "cell_type": "code",
   "execution_count": 2,
   "metadata": {},
   "outputs": [],
   "source": [
    "# Making a window for our calculator\n",
    "root = Tk()\n",
    "root.title('Speaking Calculator - by Rounak Vyas')\n",
    "root.mainloop()"
   ]
  },
  {
   "cell_type": "code",
   "execution_count": 3,
   "metadata": {},
   "outputs": [
    {
     "ename": "TclError",
     "evalue": "can't invoke \"entry\" command: application has been destroyed",
     "output_type": "error",
     "traceback": [
      "\u001b[0;31m---------------------------------------------------------------------------\u001b[0m",
      "\u001b[0;31mTclError\u001b[0m                                  Traceback (most recent call last)",
      "\u001b[0;32m<ipython-input-3-a6f13c172a64>\u001b[0m in \u001b[0;36m<module>\u001b[0;34m\u001b[0m\n\u001b[1;32m      1\u001b[0m \u001b[0mroot\u001b[0m\u001b[0;34m.\u001b[0m\u001b[0mmainloop\u001b[0m\u001b[0;34m(\u001b[0m\u001b[0;34m)\u001b[0m\u001b[0;34m\u001b[0m\u001b[0;34m\u001b[0m\u001b[0m\n\u001b[1;32m      2\u001b[0m \u001b[0;31m#adding the input field\u001b[0m\u001b[0;34m\u001b[0m\u001b[0;34m\u001b[0m\u001b[0;34m\u001b[0m\u001b[0m\n\u001b[0;32m----> 3\u001b[0;31m \u001b[0mdisplay\u001b[0m \u001b[0;34m=\u001b[0m \u001b[0mEntry\u001b[0m\u001b[0;34m(\u001b[0m\u001b[0mroot\u001b[0m\u001b[0;34m)\u001b[0m\u001b[0;34m\u001b[0m\u001b[0;34m\u001b[0m\u001b[0m\n\u001b[0m\u001b[1;32m      4\u001b[0m \u001b[0mdisplay\u001b[0m\u001b[0;34m.\u001b[0m\u001b[0mgrid\u001b[0m\u001b[0;34m(\u001b[0m\u001b[0mrow\u001b[0m\u001b[0;34m=\u001b[0m\u001b[0;36m1\u001b[0m\u001b[0;34m,\u001b[0m\u001b[0mcolumnspan\u001b[0m\u001b[0;34m=\u001b[0m\u001b[0;36m6\u001b[0m\u001b[0;34m,\u001b[0m\u001b[0msticky\u001b[0m\u001b[0;34m=\u001b[0m\u001b[0mN\u001b[0m\u001b[0;34m+\u001b[0m\u001b[0mE\u001b[0m\u001b[0;34m+\u001b[0m\u001b[0mW\u001b[0m\u001b[0;34m+\u001b[0m\u001b[0mS\u001b[0m\u001b[0;34m)\u001b[0m\u001b[0;34m\u001b[0m\u001b[0;34m\u001b[0m\u001b[0m\n\u001b[1;32m      5\u001b[0m \u001b[0;34m\u001b[0m\u001b[0m\n",
      "\u001b[0;32m~/anaconda3/lib/python3.7/tkinter/__init__.py\u001b[0m in \u001b[0;36m__init__\u001b[0;34m(self, master, cnf, **kw)\u001b[0m\n\u001b[1;32m   2674\u001b[0m         \u001b[0mtextvariable\u001b[0m\u001b[0;34m,\u001b[0m \u001b[0mvalidate\u001b[0m\u001b[0;34m,\u001b[0m \u001b[0mvalidatecommand\u001b[0m\u001b[0;34m,\u001b[0m \u001b[0mvcmd\u001b[0m\u001b[0;34m,\u001b[0m \u001b[0mwidth\u001b[0m\u001b[0;34m,\u001b[0m\u001b[0;34m\u001b[0m\u001b[0;34m\u001b[0m\u001b[0m\n\u001b[1;32m   2675\u001b[0m         xscrollcommand.\"\"\"\n\u001b[0;32m-> 2676\u001b[0;31m         \u001b[0mWidget\u001b[0m\u001b[0;34m.\u001b[0m\u001b[0m__init__\u001b[0m\u001b[0;34m(\u001b[0m\u001b[0mself\u001b[0m\u001b[0;34m,\u001b[0m \u001b[0mmaster\u001b[0m\u001b[0;34m,\u001b[0m \u001b[0;34m'entry'\u001b[0m\u001b[0;34m,\u001b[0m \u001b[0mcnf\u001b[0m\u001b[0;34m,\u001b[0m \u001b[0mkw\u001b[0m\u001b[0;34m)\u001b[0m\u001b[0;34m\u001b[0m\u001b[0;34m\u001b[0m\u001b[0m\n\u001b[0m\u001b[1;32m   2677\u001b[0m     \u001b[0;32mdef\u001b[0m \u001b[0mdelete\u001b[0m\u001b[0;34m(\u001b[0m\u001b[0mself\u001b[0m\u001b[0;34m,\u001b[0m \u001b[0mfirst\u001b[0m\u001b[0;34m,\u001b[0m \u001b[0mlast\u001b[0m\u001b[0;34m=\u001b[0m\u001b[0;32mNone\u001b[0m\u001b[0;34m)\u001b[0m\u001b[0;34m:\u001b[0m\u001b[0;34m\u001b[0m\u001b[0;34m\u001b[0m\u001b[0m\n\u001b[1;32m   2678\u001b[0m         \u001b[0;34m\"\"\"Delete text from FIRST to LAST (not included).\"\"\"\u001b[0m\u001b[0;34m\u001b[0m\u001b[0;34m\u001b[0m\u001b[0m\n",
      "\u001b[0;32m~/anaconda3/lib/python3.7/tkinter/__init__.py\u001b[0m in \u001b[0;36m__init__\u001b[0;34m(self, master, widgetName, cnf, kw, extra)\u001b[0m\n\u001b[1;32m   2297\u001b[0m             \u001b[0;32mdel\u001b[0m \u001b[0mcnf\u001b[0m\u001b[0;34m[\u001b[0m\u001b[0mk\u001b[0m\u001b[0;34m]\u001b[0m\u001b[0;34m\u001b[0m\u001b[0;34m\u001b[0m\u001b[0m\n\u001b[1;32m   2298\u001b[0m         self.tk.call(\n\u001b[0;32m-> 2299\u001b[0;31m             (widgetName, self._w) + extra + self._options(cnf))\n\u001b[0m\u001b[1;32m   2300\u001b[0m         \u001b[0;32mfor\u001b[0m \u001b[0mk\u001b[0m\u001b[0;34m,\u001b[0m \u001b[0mv\u001b[0m \u001b[0;32min\u001b[0m \u001b[0mclasses\u001b[0m\u001b[0;34m:\u001b[0m\u001b[0;34m\u001b[0m\u001b[0;34m\u001b[0m\u001b[0m\n\u001b[1;32m   2301\u001b[0m             \u001b[0mk\u001b[0m\u001b[0;34m.\u001b[0m\u001b[0mconfigure\u001b[0m\u001b[0;34m(\u001b[0m\u001b[0mself\u001b[0m\u001b[0;34m,\u001b[0m \u001b[0mv\u001b[0m\u001b[0;34m)\u001b[0m\u001b[0;34m\u001b[0m\u001b[0;34m\u001b[0m\u001b[0m\n",
      "\u001b[0;31mTclError\u001b[0m: can't invoke \"entry\" command: application has been destroyed"
     ]
    }
   ],
   "source": [
    "#adding the input field\n",
    "display = Entry(root)\n",
    "display.grid(row=1,columnspan=6,sticky=N+E+W+S)\n",
    " \n",
    "#Code to add buttons to the Calculator\n",
    "Button(root,text=\"1\",command = lambda :get_variables(1)).grid(row=2,column=0, sticky=N+S+E+W)\n",
    "Button(root,text=\" 2\",command = lambda :get_variables(2)).grid(row=2,column=1, sticky=N+S+E+W)\n",
    "Button(root,text=\" 3\",command = lambda :get_variables(3)).grid(row=2,column=2, sticky=N+S+E+W)\n",
    " \n",
    "Button(root,text=\"4\",command = lambda :get_variables(4)).grid(row=3,column=0, sticky=N+S+E+W)\n",
    "Button(root,text=\" 5\",command = lambda :get_variables(5)).grid(row=3,column=1, sticky=N+S+E+W)\n",
    "Button(root,text=\" 6\",command = lambda :get_variables(6)).grid(row=3,column=2, sticky=N+S+E+W)\n",
    " \n",
    "Button(root,text=\"7\",command = lambda :get_variables(7)).grid(row=4,column=0, sticky=N+S+E+W)\n",
    "Button(root,text=\" 8\",command = lambda :get_variables(8)).grid(row=4,column=1, sticky=N+S+E+W)\n",
    "Button(root,text=\" 9\",command = lambda :get_variables(9)).grid(row=4,column=2, sticky=N+S+E+W)\n",
    " \n",
    "#adding other buttons to the calculator\n",
    "Button(root,text=\"AC\",command=lambda :clear_all()).grid(row=5,column=0, sticky=N+S+E+W)\n",
    "Button(root,text=\" 0\",command = lambda :get_variables(0)).grid(row=5,column=1, sticky=N+S+E+W)\n",
    "Button(root,text=\" .\",command=lambda :get_variables(\".\")).grid(row=5, column=2, sticky=N+S+E+W)\n",
    " \n",
    " \n",
    "Button(root,text=\"+\",command= lambda :get_operation(\"+\")).grid(row=2,column=3, sticky=N+S+E+W)\n",
    "Button(root,text=\"-\",command= lambda :get_operation(\"-\")).grid(row=3,column=3, sticky=N+S+E+W)\n",
    "Button(root,text=\"*\",command= lambda :get_operation(\"*\")).grid(row=4,column=3, sticky=N+S+E+W)\n",
    "Button(root,text=\"/\",command= lambda :get_operation(\"/\")).grid(row=5,column=3, sticky=N+S+E+W)\n",
    " \n",
    "# adding new operations\n",
    "Button(root,text=\"pi\",command= lambda :get_operation(\"*3.14\")).grid(row=2,column=4, sticky=N+S+E+W)\n",
    "Button(root,text=\"%\",command= lambda :get_operation(\"%\")).grid(row=3,column=4, sticky=N+S+E+W)\n",
    "Button(root,text=\"(\",command= lambda :get_operation(\"(\")).grid(row=4,column=4, sticky=N+S+E+W)\n",
    "Button(root,text=\"exp\",command= lambda :get_operation(\"**\")).grid(row=5,column=4, sticky=N+S+E+W)\n",
    " \n",
    "Button(root,text=\"<-\",command= lambda :undo()).grid(row=2,column=5, sticky=N+S+E+W)\n",
    "Button(root,text=\"x!\", command= lambda: fact()).grid(row=3,column=5, sticky=N+S+E+W)\n",
    "Button(root,text=\")\",command= lambda :get_operation(\")\")).grid(row=4,column=5, sticky=N+S+E+W)\n",
    "Button(root,text=\"^2\",command= lambda :get_operation(\"**2\")).grid(row=5,column=5, sticky=N+S+E+W)\n",
    "Button(root,text=\"^2\",command= lambda :get_operation(\"**2\")).grid(row=5,column=5, sticky=N+S+E+W)\n",
    "Button(root,text=\"=\",command= lambda :calculate()).grid(columnspan=6, sticky=N+S+E+W)"
   ]
  },
  {
   "cell_type": "code",
   "execution_count": 5,
   "metadata": {},
   "outputs": [],
   "source": [
    "# i keeps the track of current position on the input text field\n",
    "i = 0\n",
    "# Receives the digit as parameter and display it on the input field\n",
    "def get_variables(num):\n",
    "    global i\n",
    "    display.insert(i,num)\n",
    "    i+=1"
   ]
  },
  {
   "cell_type": "code",
   "execution_count": 6,
   "metadata": {},
   "outputs": [],
   "source": [
    "def get_operation(operator):\n",
    "    global i\n",
    "    length = len(operator)\n",
    "    display.insert(i,operator)\n",
    "    i+=length"
   ]
  },
  {
   "cell_type": "code",
   "execution_count": 7,
   "metadata": {},
   "outputs": [],
   "source": [
    "def clear_all():\n",
    "    display.delete(0,END)"
   ]
  },
  {
   "cell_type": "code",
   "execution_count": 8,
   "metadata": {},
   "outputs": [],
   "source": [
    "def undo():\n",
    "    entire_string = display.get()\n",
    "    if len(entire_string):\n",
    "        new_string = entire_string[:-1]\n",
    "        clear_all()\n",
    "        display.insert(0,new_string)\n",
    "    else:\n",
    "        clear_all()\n",
    "        display.insert(0,\"Error\")"
   ]
  },
  {
   "cell_type": "code",
   "execution_count": 9,
   "metadata": {},
   "outputs": [],
   "source": [
    "def calculate():\n",
    "    entire_string = display.get()\n",
    "    try:\n",
    "        a = parser.expr(entire_string).compile()\n",
    "        result = eval(a)\n",
    "        clear_all()\n",
    "        display.insert(0,result)\n",
    "    except Exception:\n",
    "        clear_all()\n",
    "        display.insert(0,\"Error\")"
   ]
  },
  {
   "cell_type": "code",
   "execution_count": 10,
   "metadata": {},
   "outputs": [],
   "source": [
    "def fact():\n",
    "    entire_string = display.get()\n",
    "    try:\n",
    "        result = factorial(int(entire_string))\n",
    "        clear_all()\n",
    "        display.insert(0,result)\n",
    "    except Exception:\n",
    "        clear_all()\n",
    "        display.insert(0,\"Error\")"
   ]
  }
 ],
 "metadata": {
  "kernelspec": {
   "display_name": "Python 3",
   "language": "python",
   "name": "python3"
  },
  "language_info": {
   "codemirror_mode": {
    "name": "ipython",
    "version": 3
   },
   "file_extension": ".py",
   "mimetype": "text/x-python",
   "name": "python",
   "nbconvert_exporter": "python",
   "pygments_lexer": "ipython3",
   "version": "3.7.3"
  }
 },
 "nbformat": 4,
 "nbformat_minor": 4
}
